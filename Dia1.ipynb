{
 "cells": [
  {
   "cell_type": "code",
   "execution_count": 1,
   "id": "b236270b",
   "metadata": {},
   "outputs": [
    {
     "name": "stdout",
     "output_type": "stream",
     "text": [
      "48\n"
     ]
    }
   ],
   "source": [
    "cantidad_de_manzanas = 16\n",
    "\n",
    "cantidad_de_naranjas = 32\n",
    "\n",
    "cantidad_de_frutas = cantidad_de_manzanas + cantidad_de_naranjas\n",
    "\n",
    "print(cantidad_de_frutas)\n"
   ]
  },
  {
   "cell_type": "code",
   "execution_count": 2,
   "id": "43eafc14",
   "metadata": {},
   "outputs": [
    {
     "name": "stdout",
     "output_type": "stream",
     "text": [
      "-27\n"
     ]
    }
   ],
   "source": [
    "frutas_vendidas = 21\n",
    "\n",
    "cantidad_de_frutas = 48\n",
    "\n",
    "frutas_restantes = frutas_vendidas - cantidad_de_frutas\n",
    "\n",
    "print (frutas_restantes)\n"
   ]
  },
  {
   "cell_type": "code",
   "execution_count": 3,
   "id": "340bb581",
   "metadata": {},
   "outputs": [
    {
     "name": "stdout",
     "output_type": "stream",
     "text": [
      "Hola.Me llamo jessica Centurion ,Mucho gusto.\n"
     ]
    }
   ],
   "source": [
    "nombre = \"jessica\"\n",
    "\n",
    "apellido = \"Centurion\"\n",
    "\n",
    "print(f\"Hola.Me llamo {nombre} {apellido} ,Mucho gusto.\")\n",
    "\n"
   ]
  },
  {
   "cell_type": "code",
   "execution_count": 4,
   "id": "fc2abe95",
   "metadata": {},
   "outputs": [
    {
     "name": "stdout",
     "output_type": "stream",
     "text": [
      "4\n"
     ]
    }
   ],
   "source": [
    "numero1 = int(input(\"dame un numero\"))\n",
    "\n",
    "numero2 = int(input(\"dame un numero\"))\n",
    "\n",
    "suma = numero1 + numero2\n",
    "\n",
    "print(suma)"
   ]
  },
  {
   "cell_type": "code",
   "execution_count": 9,
   "id": "60045795",
   "metadata": {},
   "outputs": [
    {
     "name": "stdout",
     "output_type": "stream",
     "text": [
      "ve a un lugar donde concurra gente\n",
      "acercate a una persona para charlar\n",
      "conversale de un tema de interes comun\n",
      "charla por un rato\n",
      "listo ya tienes un amigo :P \n",
      "\n",
      "ve a un lugar donde concurra gente\n",
      "acercate a una persona para charlar\n",
      "conversale de un tema de interes comun\n",
      "charla por un rato\n",
      "listo ya tienes un amigo :P \n",
      "\n",
      "ve a un lugar donde concurra gente\n",
      "acercate a una persona para charlar\n",
      "conversale de un tema de interes comun\n",
      "charla por un rato\n",
      "listo ya tienes un amigo :P \n",
      "\n"
     ]
    }
   ],
   "source": [
    "def como_hacer_amigos():\n",
    "    print(\"ve a un lugar donde concurra gente\")\n",
    "    print(\"acercate a una persona para charlar\")\n",
    "    print(\"conversale de un tema de interes comun\")\n",
    "    print(\"charla por un rato\")\n",
    "    print(\"listo ya tienes un amigo :P \\n\")\n",
    "\n",
    "como_hacer_amigos()\n",
    "como_hacer_amigos()\n",
    "como_hacer_amigos()"
   ]
  },
  {
   "cell_type": "code",
   "execution_count": null,
   "id": "033b2a7f",
   "metadata": {},
   "outputs": [
    {
     "name": "stdout",
     "output_type": "stream",
     "text": [
      "pulgadas:32\n",
      "Full HD\n",
      "smart TV\n",
      "Android v8\n",
      "sMarca Samsung\n"
     ]
    }
   ],
   "source": [
    "def comprar_tv(pulgadas):\n",
    "    print(f\"pulgadas:{pulgadas}\")\n",
    "    print(\"Full HD\")\n",
    "    print(\"smart TV\")\n",
    "    print(\"Android v8\")\n",
    "    print(\"Marca Samsung\")\n",
    "\n",
    "comprar_tv(32)"
   ]
  }
 ],
 "metadata": {
  "kernelspec": {
   "display_name": ".venv",
   "language": "python",
   "name": "python3"
  },
  "language_info": {
   "codemirror_mode": {
    "name": "ipython",
    "version": 3
   },
   "file_extension": ".py",
   "mimetype": "text/x-python",
   "name": "python",
   "nbconvert_exporter": "python",
   "pygments_lexer": "ipython3",
   "version": "3.12.3"
  }
 },
 "nbformat": 4,
 "nbformat_minor": 5
}
