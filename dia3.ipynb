{
 "cells": [
  {
   "cell_type": "code",
   "execution_count": 5,
   "id": "db37f591",
   "metadata": {},
   "outputs": [
    {
     "name": "stdout",
     "output_type": "stream",
     "text": [
      "Hola\n"
     ]
    }
   ],
   "source": [
    "Palabra = \"Hola\"\n",
    "def imprimir_palabra () :\n",
    "    print(Palabra)\n",
    "\n",
    "imprimir_palabra()\n",
    "\n"
   ]
  },
  {
   "cell_type": "markdown",
   "id": "cdaa43e6",
   "metadata": {},
   "source": [
    "#Challenge 2 🤺 - 20 min\n",
    "Crear una función que reciba dos letras (parámetros) y que verifique si son iguales:\n",
    "\n",
    "    Si son iguales, imprimir \"Las letras son iguales\".\n",
    "\n",
    "\n",
    "    De lo contrario, imprimir \"Las letras son diferentes\"."
   ]
  },
  {
   "cell_type": "code",
   "execution_count": 13,
   "id": "7ec72493",
   "metadata": {},
   "outputs": [
    {
     "name": "stdout",
     "output_type": "stream",
     "text": [
      "Las letras son iguales \n"
     ]
    }
   ],
   "source": [
    "def recibir_parametros (parametro1,parametro2) :\n",
    "    if parametro1 == parametro2 :\n",
    "        print(\"Las letras son iguales \")\n",
    "    else :\n",
    "        print(\"Las letras son diferentes\")\n",
    "\n",
    "recibir_parametros(\"a\",\"a\")"
   ]
  },
  {
   "cell_type": "markdown",
   "id": "f8d60d27",
   "metadata": {},
   "source": [
    "##Challenge 3 🤺 - 20m\n",
    "\n",
    "Crear una función que reciba dos parámetros (una palabra y un número), y que retorne True si el número es igual a la cantidad de letras de la palabra. En caso contrario, que retorne False.\n",
    "\n",
    "Pista: cantidad de letras de una palabra en python"
   ]
  },
  {
   "cell_type": "code",
   "execution_count": null,
   "id": "52311bea",
   "metadata": {},
   "outputs": [
    {
     "data": {
      "text/plain": [
       "True"
      ]
     },
     "execution_count": 28,
     "metadata": {},
     "output_type": "execute_result"
    }
   ],
   "source": [
    "def palabra_total ( letra , numero) :\n",
    "    if len(letra) == numero :\n",
    "        return True\n",
    "    else: \n",
    "        return False\n",
    "\n",
    "palabra_total('hola',4)"
   ]
  },
  {
   "cell_type": "markdown",
   "id": "c47c7ebc",
   "metadata": {},
   "source": [
    "Challenge 5 🤺 - 25m\n",
    "Pedir al usuario que ingrese 1 palabra, luego convertir esa palabra a una lista con sus caracteres con list(). Agregar esa lista de caracteres a una lista llamada palabras_ingresadas. Repetir el proceso 3 veces. Cada vez que se agregue una lista de caracteres, imprimir la lista palabras_ingresadas.\n",
    "\n",
    "\n",
    "Ejemplo del resultado esperado:\n",
    "\n",
    "[['c', 'i', 'e', 'l', 'o']]\n",
    "\n",
    " # Al ingresar la primera palabra\n",
    "\n",
    "[['c', 'i', 'e', 'l', 'o'], ['c', 'a', 'l', 'o', 'r']]\n",
    "\n",
    " # Al ingresar la segunda palabra\n",
    "\n",
    "[['c', 'i', 'e', 'l', 'o'], ['c', 'a', 'l', 'o', 'r'], ['n', 'u', 'b', 'e', 's']]\n",
    "\n",
    " # Al ingresar la tercera palabra"
   ]
  },
  {
   "cell_type": "code",
   "execution_count": null,
   "id": "8c1a3e44",
   "metadata": {},
   "outputs": [
    {
     "name": "stdout",
     "output_type": "stream",
     "text": [
      "[['h', 'o', 'l', 'a']]\n",
      "[['h', 'o', 'l', 'a'], ['h', 'o', 'l', 'a']]\n",
      "[['h', 'o', 'l', 'a'], ['h', 'o', 'l', 'a'], ['h', 'o', 'l', 'a']]\n"
     ]
    }
   ],
   "source": [
    "palabra = []\n",
    "for i in range(3):\n",
    "    palabra_usuario = input(\"ingrese una palabra\")\n",
    "    lista_de_palabra_ingresadas = list(palabra_usuario)\n",
    "    palabra.append(lista_de_palabra_ingresadas)\n",
    "    print()\n"
   ]
  },
  {
   "cell_type": "markdown",
   "id": "7542e162",
   "metadata": {},
   "source": [
    "Challenge 6 🤺 - 25m\n",
    "Dada la lista de ejemplo: \n",
    "\n",
    "lista = [['h', 'o', 'l', 'i', 's'], ['h', 'e', 'l', 'l', 'o'], ['h', 'a', 'l', 'l', 'o']]\n",
    "\n",
    "Crear una función que imprima una grilla (lista de listas), una línea por cada lista dentro de la lista principal.\n",
    "\n",
    "Ejemplo del resultado esperado:\n",
    "\n",
    "['h', 'o', 'l', 'i', 's']\n",
    "['h', 'e', 'l', 'l', 'o']\n",
    "['h', 'a', 'l', 'l', 'o']"
   ]
  },
  {
   "cell_type": "code",
   "execution_count": null,
   "id": "5367ee56",
   "metadata": {},
   "outputs": [
    {
     "name": "stdout",
     "output_type": "stream",
     "text": [
      "['h', 'o', 'l', 'i', 's']\n",
      "['h', 'e', 'l', 'l', 'o']\n",
      "['h', 'a', 'l', 'l', 'o']\n"
     ]
    }
   ],
   "source": [
    "palabras_definidas = [\"holis\", \"hello\", \"hallo\"]\n",
    "palabra = []\n",
    "for palabra_usuario in palabras_definidas:\n",
    "    lista_de_letras = list(palabra_usuario)\n",
    "    palabra.append(lista_de_letras)\n",
    "def imprimir_grilla(grilla):\n",
    "    for fila in grilla:\n",
    "        print(fila)\n",
    "imprimir_grilla(palabra)\n"
   ]
  },
  {
   "cell_type": "markdown",
   "id": "02c8c1e5",
   "metadata": {},
   "source": [
    "codigo para crear palabra del dia \n"
   ]
  },
  {
   "cell_type": "code",
   "execution_count": null,
   "id": "2879343d",
   "metadata": {},
   "outputs": [],
   "source": [
    "def obteniendo_palabra(palabra_a_encontrar, palabra_ingresada): \n",
    "    cantidad_de_letras = 5\n",
    "    letras_verificadas = []\n",
    "    for posicion in range(cantidad_de_letras):\n",
    "        las_letras_son_iguales = palabra_a_encontrar[posicion] == palabra_ingresada[posicion]\n",
    "        la_letra_existe_en_la_palabra = palabra_ingresada[posicion] in palabra_a_encontrar\n",
    "\n",
    "        if las_letras_son_iguales: \n",
    "            letras_verificadas.append(\"[\" + palabra_ingresada[posicion] + \"]\")\n",
    "        elif la_letra_existe_en_la_palabra:\n",
    "            letras_verificadas.append('('+ palabra_ingresada[posicion] + ')')\n",
    "        else:\n",
    "            letras_verificadas.append(palabra_ingresada[posicion])\n",
    "\n",
    "    return letras_verificadas\n",
    "\n",
    "palabra_a_encontrar = \"cinco\"\n",
    "print(\"Bienvenido\")\n",
    "\n",
    "🔴 palabra_ingresada = input(\"ingrese una palabra de  letras: \")\n",
    "# ❌ Falta especificar que son 5 letras.\n",
    "# ✅ CORREGIR:\n",
    "# palabra_ingresada = input(\"Ingrese una palabra de 5 letras: \")\n",
    "\n",
    "🔴 linea_verificada = (obteniendo_palabra, palabra_ingresada)\n",
    "# ❌ Estás creando una tupla, no llamando a la función.\n",
    "# ✅ CORREGIR:\n",
    "# linea_verificada = obteniendo_palabra(palabra_a_encontrar, palabra_ingresada)\n",
    "\n",
    "print(linea_verificada)\n",
    "\n",
    "intentos = 3\n",
    "\n",
    "while intentos > 0:\n",
    "    print(f\"te quedan {intentos} intentos\")\n",
    "    palabra = input(\"ingrese la palabra: \")\n",
    "\n",
    "    🔴 print(\"te quedaste sin intentos\")\n",
    "    # ❌ Esto se imprime en cada intento, no solo cuando se terminan.\n",
    "    # ✅ CORREGIR:\n",
    "    # Mover esta línea fuera del bucle\n",
    "\n",
    "    🔴 obteniendo_palabra(palabra_a_encontrar, palabra_ingresada)\n",
    "    # ❌ Estás usando la palabra original, no la que el usuario acaba de ingresar.\n",
    "    # ❌ Tampoco estás imprimiendo el resultado.\n",
    "    # ✅ CORREGIR:\n",
    "    # resultado = obteniendo_palabra(palabra_a_encontrar, palabra)\n",
    "    # print(resultado)\n",
    "\n",
    "    intentos = intentos - 1\n"
   ]
  },
  {
   "cell_type": "code",
   "execution_count": 69,
   "id": "806210cd",
   "metadata": {},
   "outputs": [
    {
     "name": "stdout",
     "output_type": "stream",
     "text": [
      "Bienvenido\n",
      "['h', '(o)', 'l', 'a', 's']\n",
      "Te quedan 3 intentos\n",
      "['p', '[i]', '[n]', 't', '[o]']\n",
      "Te quedan 2 intentos\n",
      "['[c]', '[i]', '[n]', '[c]', '[o]']\n",
      "Te quedan 1 intentos\n",
      "['[c]', '[i]', '[n]', '[c]', '[o]']\n",
      "Te quedaste sin intentos 😢\n"
     ]
    }
   ],
   "source": [
    "def obteniendo_palabra(palabra_a_encontrar, palabra_ingresada):\n",
    "    cantidad_de_letras = 5\n",
    "    letras_verificadas = []\n",
    "    for posicion in range(cantidad_de_letras):\n",
    "        las_letras_son_iguales = palabra_a_encontrar[posicion] == palabra_ingresada[posicion]\n",
    "        la_letra_existe_en_la_palabra = palabra_ingresada[posicion] in palabra_a_encontrar\n",
    "\n",
    "        if las_letras_son_iguales:\n",
    "            letras_verificadas.append(\"[\" + palabra_ingresada[posicion] + \"]\")\n",
    "        elif la_letra_existe_en_la_palabra:\n",
    "            letras_verificadas.append(\"(\" + palabra_ingresada[posicion] + \")\")\n",
    "        else:\n",
    "            letras_verificadas.append(palabra_ingresada[posicion])\n",
    "    return letras_verificadas\n",
    "\n",
    "palabra_a_encontrar = \"cinco\"\n",
    "print(\"Bienvenido\")\n",
    "\n",
    "palabra_ingresada = input(\"Ingrese una palabra de 5 letras: \")\n",
    "linea_verificada = obteniendo_palabra(palabra_a_encontrar, palabra_ingresada)\n",
    "print(linea_verificada)\n",
    "\n",
    "intentos = 3\n",
    "while intentos > 0:\n",
    "    print(f\"Te quedan {intentos} intentos\")\n",
    "    palabra = input(\"Ingrese la palabra: \")\n",
    "    resultado = obteniendo_palabra(palabra_a_encontrar, palabra)\n",
    "    print(resultado)\n",
    "    intentos -= 1\n",
    "\n",
    "print(\"Te quedaste sin intentos 😢\")"
   ]
  },
  {
   "cell_type": "code",
   "execution_count": 70,
   "id": "789b7cde",
   "metadata": {},
   "outputs": [
    {
     "name": "stdout",
     "output_type": "stream",
     "text": [
      "Bienvenido al juego 👋\n",
      "\n",
      "Te quedan 3 intentos\n"
     ]
    },
    {
     "name": "stdout",
     "output_type": "stream",
     "text": [
      "Resultado: ['l', '(o)', '(c)', '(o)', 's']\n",
      "\n",
      "Te quedan 2 intentos\n",
      "⚠️ La palabra debe tener exactamente 5 letras.\n",
      "\n",
      "Te quedan 2 intentos\n",
      "[c][i][n][c][o]\n",
      "🎉 ¡Adivinaste la palabra! 🎉\n"
     ]
    }
   ],
   "source": [
    "def obteniendo_palabra(palabra_a_encontrar, palabra_ingresada):\n",
    "    cantidad_de_letras = 5\n",
    "    letras_verificadas = []\n",
    "    for posicion in range(cantidad_de_letras):\n",
    "        las_letras_son_iguales = palabra_a_encontrar[posicion] == palabra_ingresada[posicion]\n",
    "        la_letra_existe_en_la_palabra = palabra_ingresada[posicion] in palabra_a_encontrar\n",
    "\n",
    "        if las_letras_son_iguales:\n",
    "            letras_verificadas.append(\"[\" + palabra_ingresada[posicion] + \"]\")\n",
    "        elif la_letra_existe_en_la_palabra:\n",
    "            letras_verificadas.append(\"(\" + palabra_ingresada[posicion] + \")\")\n",
    "        else:\n",
    "            letras_verificadas.append(palabra_ingresada[posicion])\n",
    "    return letras_verificadas\n",
    "\n",
    "# --- Juego principal ---\n",
    "palabra_a_encontrar = \"cinco\"\n",
    "print(\"Bienvenido al juego 👋\")\n",
    "intentos = 3\n",
    "\n",
    "while intentos > 0:\n",
    "    print(f\"\\nTe quedan {intentos} intentos\")\n",
    "    palabra = input(\"Ingrese una palabra de 5 letras: \")\n",
    "\n",
    "    if len(palabra) != 5:\n",
    "        print(\"⚠️ La palabra debe tener exactamente 5 letras.\")\n",
    "        continue  # no restamos intento, vuelve a pedir\n",
    "\n",
    "    if palabra == palabra_a_encontrar:\n",
    "        print(\"[\" + \"][\".join(palabra) + \"]\")\n",
    "        print(\"🎉 ¡Adivinaste la palabra! 🎉\")\n",
    "        break\n",
    "\n",
    "    resultado = obteniendo_palabra(palabra_a_encontrar, palabra)\n",
    "    print(\"Resultado:\", resultado)\n",
    "\n",
    "    intentos -= 1\n",
    "\n",
    "if intentos == 0:\n",
    "    print(\"\\n😢 Te quedaste sin intentos.\")\n",
    "    print(f\"La palabra correcta era: {palabra_a_encontrar}\")"
   ]
  }
 ],
 "metadata": {
  "kernelspec": {
   "display_name": ".venv",
   "language": "python",
   "name": "python3"
  },
  "language_info": {
   "codemirror_mode": {
    "name": "ipython",
    "version": 3
   },
   "file_extension": ".py",
   "mimetype": "text/x-python",
   "name": "python",
   "nbconvert_exporter": "python",
   "pygments_lexer": "ipython3",
   "version": "3.12.3"
  }
 },
 "nbformat": 4,
 "nbformat_minor": 5
}
