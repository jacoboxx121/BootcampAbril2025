{
 "cells": [
  {
   "cell_type": "code",
   "execution_count": 23,
   "id": "e952d026",
   "metadata": {},
   "outputs": [
    {
     "name": "stdout",
     "output_type": "stream",
     "text": [
      "hace lo que quieras\n"
     ]
    }
   ],
   "source": [
    "usuario_edad = 22\n",
    "if usuario_edad >=18 and usuario_edad <=21:\n",
    "    print(\"Puedes tomar pero no comprar\")\n",
    "elif usuario_edad <= 18 :\n",
    "    print(\"Juguito nomas\")\n",
    "else :\n",
    "    print(\"hace lo que quieras\")\n",
    "\n",
    "\n"
   ]
  },
  {
   "cell_type": "code",
   "execution_count": 25,
   "id": "0ec54954",
   "metadata": {},
   "outputs": [
    {
     "name": "stdout",
     "output_type": "stream",
     "text": [
      "Dios mio nos morimos\n"
     ]
    }
   ],
   "source": [
    "temperatura_actual = int(input(\"Cual es la temperatura actual\"))\n",
    "\n",
    "if temperatura_actual >=-10 and temperatura_actual <= 18:\n",
    "    print(\"Que fresquito\")\n",
    "elif temperatura_actual >=19 and temperatura_actual <=30:\n",
    "    print(\"Calor'i che \")\n",
    "elif temperatura_actual >=31 and temperatura_actual <= 45:\n",
    "    print(\"hakurooooooo\")\n",
    "else:\n",
    "    print(\"Dios mio nos morimos\")"
   ]
  },
  {
   "cell_type": "code",
   "execution_count": 40,
   "id": "463c7363",
   "metadata": {},
   "outputs": [
    {
     "name": "stdout",
     "output_type": "stream",
     "text": [
      "Passwords invalida\n",
      "Bienvenido Crack,maquina,fiera,mastodonte,idolo\n"
     ]
    }
   ],
   "source": [
    "passwords = (\"Paraguay1\")\n",
    "\n",
    "while True:\n",
    "    passwords_use = input(\"Introduce tu Passsword\")\n",
    "    if passwords_use == passwords :\n",
    "         print(\"Bienvenido Crack,maquina,fiera,mastodonte,idolo\")\n",
    "         break\n",
    "    else:\n",
    "         print(\"Passwords invalida\")\n",
    "        "
   ]
  },
  {
   "cell_type": "code",
   "execution_count": 45,
   "id": "722e0189",
   "metadata": {},
   "outputs": [
    {
     "name": "stdout",
     "output_type": "stream",
     "text": [
      "['ps2', 'ps3', 'ps4', 'Nintendo ds', 'ps5', 'nintendo switch']\n",
      "['ps2', 'psvita', 'ps4', 'Nintendo ds', 'ps5', 'nintendo switch']\n",
      "['ps2', 'psvita', 'Nintendo ds', 'ps5', 'nintendo switch']\n"
     ]
    }
   ],
   "source": [
    "lista_de_consolas = [\"ps2\",\"ps3\",\"ps4\",\"Nintendo ds\",\"ps5\"]\n",
    "\n",
    "lista_de_consolas.append(\"nintendo switch\")\n",
    "print(lista_de_consolas)\n",
    "\n",
    "lista_de_consolas[1] = (\"psvita\")\n",
    "print(lista_de_consolas)\n",
    "\n",
    "lista_de_consolas.pop(2)\n",
    "print(lista_de_consolas)"
   ]
  },
  {
   "cell_type": "code",
   "execution_count": 58,
   "id": "3c083ed4",
   "metadata": {},
   "outputs": [
    {
     "name": "stdout",
     "output_type": "stream",
     "text": [
      "2\n",
      "4\n",
      "6\n",
      "8\n",
      "10\n",
      "12\n",
      "14\n",
      "16\n",
      "18\n",
      "20\n"
     ]
    }
   ],
   "source": [
    "#escribir un programa que itere en un rango de 10 veces. por cada iteracion multiplicar el iterador por dos e imprimir el resultado\n",
    "\n",
    "for i in range(1,11):\n",
    "    multi = i * 2\n",
    "    print(multi)"
   ]
  },
  {
   "cell_type": "code",
   "execution_count": 60,
   "id": "2c48e856",
   "metadata": {},
   "outputs": [
    {
     "name": "stdout",
     "output_type": "stream",
     "text": [
      "Mercedes-Benz\n",
      "Renault\n",
      "Subaru\n"
     ]
    }
   ],
   "source": [
    "lista_de_autos = [\"Audi\",\"BMW\",\"Mercedes-Benz\",\"Renault\",\"Subaru\",\"Mazda\"]\n",
    "\n",
    "for marca in lista_de_autos:\n",
    "    if len(marca) >=6 :\n",
    "        print(marca)\n"
   ]
  },
  {
   "cell_type": "code",
   "execution_count": 83,
   "id": "ca50f32f",
   "metadata": {},
   "outputs": [
    {
     "name": "stdout",
     "output_type": "stream",
     "text": [
      "o\n",
      "Encontre esta \"O\" 😲 numero 1\n",
      "o\n",
      "Encontre esta \"O\" 😲 numero 2\n",
      "o\n",
      "Encontre esta \"O\" 😲 numero 3\n",
      "o\n",
      "Encontre esta \"O\" 😲 numero 4\n",
      "o\n",
      "Encontre esta \"O\" 😲 numero 5\n",
      "o\n",
      "Encontre esta \"O\" 😲 numero 6\n",
      "o\n",
      "Encontre esta \"O\" 😲 numero 7\n",
      "o\n",
      "Encontre esta \"O\" 😲 numero 8\n"
     ]
    }
   ],
   "source": [
    "Frase = input(\"Escribe un mensaje: \")      \n",
    "contador = 0\n",
    "for letra in Frase:         \n",
    "    if letra == \"o\" or letra == \"O\":      \n",
    "        print(letra)\n",
    "        contador +=1\n",
    "        print(f'Encontre esta \"O\" 😲 numero {contador}')\n"
   ]
  }
 ],
 "metadata": {
  "kernelspec": {
   "display_name": ".venv",
   "language": "python",
   "name": "python3"
  },
  "language_info": {
   "codemirror_mode": {
    "name": "ipython",
    "version": 3
   },
   "file_extension": ".py",
   "mimetype": "text/x-python",
   "name": "python",
   "nbconvert_exporter": "python",
   "pygments_lexer": "ipython3",
   "version": "3.12.3"
  }
 },
 "nbformat": 4,
 "nbformat_minor": 5
}
